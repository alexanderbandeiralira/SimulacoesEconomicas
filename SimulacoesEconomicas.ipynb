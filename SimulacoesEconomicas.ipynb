{
  "nbformat": 4,
  "nbformat_minor": 0,
  "metadata": {
    "colab": {
      "provenance": [],
      "authorship_tag": "ABX9TyMxK2kWnhw9XjzmL5HJqyw8",
      "include_colab_link": true
    },
    "kernelspec": {
      "name": "python3",
      "display_name": "Python 3"
    },
    "language_info": {
      "name": "python"
    }
  },
  "cells": [
    {
      "cell_type": "markdown",
      "metadata": {
        "id": "view-in-github",
        "colab_type": "text"
      },
      "source": [
        "<a href=\"https://colab.research.google.com/github/alexanderbandeiralira/SimulacoesEconomicas/blob/main/SimulacoesEconomicas.ipynb\" target=\"_parent\"><img src=\"https://colab.research.google.com/assets/colab-badge.svg\" alt=\"Open In Colab\"/></a>"
      ]
    },
    {
      "cell_type": "code",
      "execution_count": 104,
      "metadata": {
        "colab": {
          "base_uri": "https://localhost:8080/"
        },
        "id": "9rFyuSD-T4SZ",
        "outputId": "232da927-b196-427b-b4a8-d8c4982e3931"
      },
      "outputs": [
        {
          "output_type": "stream",
          "name": "stdout",
          "text": [
            "Mounted at /content/drive\n"
          ]
        }
      ],
      "source": [
        "from google.colab import drive\n",
        "drive.mount('/content/drive', force_remount=True)"
      ]
    },
    {
      "cell_type": "code",
      "source": [
        "import pandas as pd\n",
        "import numpy as np\n",
        "import seaborn as sns\n",
        "import matplotlib.pyplot as plt"
      ],
      "metadata": {
        "id": "nKFDe6IDURSC"
      },
      "execution_count": 105,
      "outputs": []
    },
    {
      "cell_type": "code",
      "source": [
        "#/content/drive/MyDrive/Teste DS/data.csv\n",
        "data = pd.read_csv('/content/drive/MyDrive/Teste DS/data.csv')\n",
        "data.columns"
      ],
      "metadata": {
        "colab": {
          "base_uri": "https://localhost:8080/"
        },
        "id": "WcXBR2_SUROk",
        "outputId": "07f47a59-23b9-4540-80f0-55ecde228551"
      },
      "execution_count": 106,
      "outputs": [
        {
          "output_type": "execute_result",
          "data": {
            "text/plain": [
              "Index(['Unnamed: 0', 'initial_age', 'weight', 'family_kind', 'race',\n",
              "       'marital_status', 'accumulated_capital', 'annual_contribution',\n",
              "       'income'],\n",
              "      dtype='object')"
            ]
          },
          "metadata": {},
          "execution_count": 106
        }
      ]
    },
    {
      "cell_type": "code",
      "source": [
        "data.info()"
      ],
      "metadata": {
        "colab": {
          "base_uri": "https://localhost:8080/"
        },
        "id": "r6rE9usXVWQc",
        "outputId": "f8c6c2d2-cc40-4278-91d1-188767b30b06"
      },
      "execution_count": 107,
      "outputs": [
        {
          "output_type": "stream",
          "name": "stdout",
          "text": [
            "<class 'pandas.core.frame.DataFrame'>\n",
            "RangeIndex: 47626 entries, 0 to 47625\n",
            "Data columns (total 9 columns):\n",
            " #   Column               Non-Null Count  Dtype  \n",
            "---  ------               --------------  -----  \n",
            " 0   Unnamed: 0           47626 non-null  int64  \n",
            " 1   initial_age          47626 non-null  int64  \n",
            " 2   weight               47626 non-null  int64  \n",
            " 3   family_kind          47626 non-null  int64  \n",
            " 4   race                 47626 non-null  int64  \n",
            " 5   marital_status       47626 non-null  int64  \n",
            " 6   accumulated_capital  47626 non-null  float64\n",
            " 7   annual_contribution  47626 non-null  float64\n",
            " 8   income               47626 non-null  float64\n",
            "dtypes: float64(3), int64(6)\n",
            "memory usage: 3.3 MB\n"
          ]
        }
      ]
    },
    {
      "cell_type": "code",
      "source": [
        "data['initial_age'] = data['initial_age'].astype(int)\n",
        "data['weight'] = data['weight'].astype(int)\n",
        "data['income'] = data['income'].astype(float)\n",
        "data['family_kind'] = data['family_kind'].astype('object')\n",
        "data['race'] = data['race'].astype('object')\n",
        "data['marital_status'] = data['marital_status'].astype('object')\n",
        "data['annual_contribution'] = data['annual_contribution'].astype(float)\n",
        "data['accumulated_capital'] = data['accumulated_capital'].astype(float)\n"
      ],
      "metadata": {
        "id": "lsF8AFM7VgYb"
      },
      "execution_count": 108,
      "outputs": []
    },
    {
      "cell_type": "code",
      "source": [
        "data.info()"
      ],
      "metadata": {
        "colab": {
          "base_uri": "https://localhost:8080/"
        },
        "id": "AthfK5beipE0",
        "outputId": "74095040-baec-4dc3-a9a9-9e9623e61658"
      },
      "execution_count": 109,
      "outputs": [
        {
          "output_type": "stream",
          "name": "stdout",
          "text": [
            "<class 'pandas.core.frame.DataFrame'>\n",
            "RangeIndex: 47626 entries, 0 to 47625\n",
            "Data columns (total 9 columns):\n",
            " #   Column               Non-Null Count  Dtype  \n",
            "---  ------               --------------  -----  \n",
            " 0   Unnamed: 0           47626 non-null  int64  \n",
            " 1   initial_age          47626 non-null  int64  \n",
            " 2   weight               47626 non-null  int64  \n",
            " 3   family_kind          47626 non-null  object \n",
            " 4   race                 47626 non-null  object \n",
            " 5   marital_status       47626 non-null  object \n",
            " 6   accumulated_capital  47626 non-null  float64\n",
            " 7   annual_contribution  47626 non-null  float64\n",
            " 8   income               47626 non-null  float64\n",
            "dtypes: float64(3), int64(3), object(3)\n",
            "memory usage: 3.3+ MB\n"
          ]
        }
      ]
    },
    {
      "cell_type": "code",
      "source": [
        "# Adjust current year income for inflation\n",
        "current_year = 2023\n",
        "initial_year = 2020\n",
        "inflation_rate = 0.044\n",
        "years_passed = current_year - initial_year\n",
        "data['income_adjusted'] = data['income'] * (1 + inflation_rate) ** years_passed\n",
        "\n",
        "# Calculate additional retirement savings due to Saver's Match\n",
        "max_match_income = 10000\n",
        "data['additional_retirement_savings'] = 0.5 * pd.Series([min(max_match_income, 0.5 * income_adjusted) for income_adjusted in data['income_adjusted']])\n",
        "\n"
      ],
      "metadata": {
        "id": "-tM6b4QAnNdq"
      },
      "execution_count": 110,
      "outputs": []
    },
    {
      "cell_type": "markdown",
      "source": [
        "# **Calcular a coluna \"new_accumulated_capital\" com base na fórmula fornecida:**\n",
        "\n",
        "\n",
        "\n"
      ],
      "metadata": {
        "id": "HM2_kKMdUqLT"
      }
    },
    {
      "cell_type": "code",
      "source": [
        "# Calculate new accumulated capital\n",
        "data['new_accumulated_capital'] = data['accumulated_capital'] + data['additional_retirement_savings']"
      ],
      "metadata": {
        "id": "uZE6ybniURWQ"
      },
      "execution_count": 111,
      "outputs": []
    },
    {
      "cell_type": "markdown",
      "source": [
        "# **Criar faixas de idade (age cohorts) e atribuir cada pessoa a uma faixa:**"
      ],
      "metadata": {
        "id": "xpz2B7FTUuW9"
      }
    },
    {
      "cell_type": "code",
      "source": [
        "age_bins = [35, 40, 45, 50, 55, 60, 65]\n",
        "age_labels = ['35-39', '40-44', '45-49', '50-54', '55-59', '60-64']\n",
        "data['age_cohort'] = pd.cut(data['initial_age'], bins=age_bins, labels=age_labels, right=False)"
      ],
      "metadata": {
        "id": "zqA3kuyVURau"
      },
      "execution_count": 112,
      "outputs": []
    },
    {
      "cell_type": "code",
      "source": [
        "data.sample(10)"
      ],
      "metadata": {
        "colab": {
          "base_uri": "https://localhost:8080/",
          "height": 424
        },
        "id": "F9RRF17LovYN",
        "outputId": "fb478731-a3ba-4c6f-c2c9-17e310f83349"
      },
      "execution_count": 113,
      "outputs": [
        {
          "output_type": "execute_result",
          "data": {
            "text/plain": [
              "       Unnamed: 0  initial_age  weight family_kind race marital_status  \\\n",
              "17540       17540           48     471           1    1              1   \n",
              "25201       25201           46    2703           1    1              1   \n",
              "44611       44611           42    2569           2    2              1   \n",
              "11832       11832           48    2842           2    1              4   \n",
              "38055       38055           39     954           3    1              5   \n",
              "10378       10378           45    3083           3    1              3   \n",
              "32335       32335           44    1173           1    1              1   \n",
              "37151       37151           47    1690           2    1              5   \n",
              "371           371           46     582           1    1              1   \n",
              "45578       45578           35    1940           2    2              5   \n",
              "\n",
              "       accumulated_capital  annual_contribution     income  income_adjusted  \\\n",
              "17540       -145316.153464                 0.15   46004.81     52348.559730   \n",
              "25201        -20722.557528                 0.09    9957.58     11330.662411   \n",
              "44611        508252.124673                 0.31   65432.60     74455.309551   \n",
              "11832        304630.874987                 0.21   74734.42     85039.787128   \n",
              "38055        -11646.025594                 0.31   76835.38     87430.455192   \n",
              "10378       -210504.764312                 0.31    6916.42      7870.147176   \n",
              "32335        -65133.191633                 0.12  114698.29    130514.402407   \n",
              "37151        121308.164962                 0.31   82196.10     93530.381941   \n",
              "371           82270.077478                 0.02   82921.53     94355.843794   \n",
              "45578       -234823.809143                 0.00   89908.12    102305.836934   \n",
              "\n",
              "       additional_retirement_savings  new_accumulated_capital age_cohort  \n",
              "17540                    5000.000000           -140316.153464      45-49  \n",
              "25201                    2832.665603            -17889.891925      45-49  \n",
              "44611                    5000.000000            513252.124673      40-44  \n",
              "11832                    5000.000000            309630.874987      45-49  \n",
              "38055                    5000.000000             -6646.025594      35-39  \n",
              "10378                    1967.536794           -208537.227519      45-49  \n",
              "32335                    5000.000000            -60133.191633      40-44  \n",
              "37151                    5000.000000            126308.164962      45-49  \n",
              "371                      5000.000000             87270.077478      45-49  \n",
              "45578                    5000.000000           -229823.809143      35-39  "
            ],
            "text/html": [
              "\n",
              "  <div id=\"df-08324361-dbf9-40cb-a201-b9ff422fb61c\">\n",
              "    <div class=\"colab-df-container\">\n",
              "      <div>\n",
              "<style scoped>\n",
              "    .dataframe tbody tr th:only-of-type {\n",
              "        vertical-align: middle;\n",
              "    }\n",
              "\n",
              "    .dataframe tbody tr th {\n",
              "        vertical-align: top;\n",
              "    }\n",
              "\n",
              "    .dataframe thead th {\n",
              "        text-align: right;\n",
              "    }\n",
              "</style>\n",
              "<table border=\"1\" class=\"dataframe\">\n",
              "  <thead>\n",
              "    <tr style=\"text-align: right;\">\n",
              "      <th></th>\n",
              "      <th>Unnamed: 0</th>\n",
              "      <th>initial_age</th>\n",
              "      <th>weight</th>\n",
              "      <th>family_kind</th>\n",
              "      <th>race</th>\n",
              "      <th>marital_status</th>\n",
              "      <th>accumulated_capital</th>\n",
              "      <th>annual_contribution</th>\n",
              "      <th>income</th>\n",
              "      <th>income_adjusted</th>\n",
              "      <th>additional_retirement_savings</th>\n",
              "      <th>new_accumulated_capital</th>\n",
              "      <th>age_cohort</th>\n",
              "    </tr>\n",
              "  </thead>\n",
              "  <tbody>\n",
              "    <tr>\n",
              "      <th>17540</th>\n",
              "      <td>17540</td>\n",
              "      <td>48</td>\n",
              "      <td>471</td>\n",
              "      <td>1</td>\n",
              "      <td>1</td>\n",
              "      <td>1</td>\n",
              "      <td>-145316.153464</td>\n",
              "      <td>0.15</td>\n",
              "      <td>46004.81</td>\n",
              "      <td>52348.559730</td>\n",
              "      <td>5000.000000</td>\n",
              "      <td>-140316.153464</td>\n",
              "      <td>45-49</td>\n",
              "    </tr>\n",
              "    <tr>\n",
              "      <th>25201</th>\n",
              "      <td>25201</td>\n",
              "      <td>46</td>\n",
              "      <td>2703</td>\n",
              "      <td>1</td>\n",
              "      <td>1</td>\n",
              "      <td>1</td>\n",
              "      <td>-20722.557528</td>\n",
              "      <td>0.09</td>\n",
              "      <td>9957.58</td>\n",
              "      <td>11330.662411</td>\n",
              "      <td>2832.665603</td>\n",
              "      <td>-17889.891925</td>\n",
              "      <td>45-49</td>\n",
              "    </tr>\n",
              "    <tr>\n",
              "      <th>44611</th>\n",
              "      <td>44611</td>\n",
              "      <td>42</td>\n",
              "      <td>2569</td>\n",
              "      <td>2</td>\n",
              "      <td>2</td>\n",
              "      <td>1</td>\n",
              "      <td>508252.124673</td>\n",
              "      <td>0.31</td>\n",
              "      <td>65432.60</td>\n",
              "      <td>74455.309551</td>\n",
              "      <td>5000.000000</td>\n",
              "      <td>513252.124673</td>\n",
              "      <td>40-44</td>\n",
              "    </tr>\n",
              "    <tr>\n",
              "      <th>11832</th>\n",
              "      <td>11832</td>\n",
              "      <td>48</td>\n",
              "      <td>2842</td>\n",
              "      <td>2</td>\n",
              "      <td>1</td>\n",
              "      <td>4</td>\n",
              "      <td>304630.874987</td>\n",
              "      <td>0.21</td>\n",
              "      <td>74734.42</td>\n",
              "      <td>85039.787128</td>\n",
              "      <td>5000.000000</td>\n",
              "      <td>309630.874987</td>\n",
              "      <td>45-49</td>\n",
              "    </tr>\n",
              "    <tr>\n",
              "      <th>38055</th>\n",
              "      <td>38055</td>\n",
              "      <td>39</td>\n",
              "      <td>954</td>\n",
              "      <td>3</td>\n",
              "      <td>1</td>\n",
              "      <td>5</td>\n",
              "      <td>-11646.025594</td>\n",
              "      <td>0.31</td>\n",
              "      <td>76835.38</td>\n",
              "      <td>87430.455192</td>\n",
              "      <td>5000.000000</td>\n",
              "      <td>-6646.025594</td>\n",
              "      <td>35-39</td>\n",
              "    </tr>\n",
              "    <tr>\n",
              "      <th>10378</th>\n",
              "      <td>10378</td>\n",
              "      <td>45</td>\n",
              "      <td>3083</td>\n",
              "      <td>3</td>\n",
              "      <td>1</td>\n",
              "      <td>3</td>\n",
              "      <td>-210504.764312</td>\n",
              "      <td>0.31</td>\n",
              "      <td>6916.42</td>\n",
              "      <td>7870.147176</td>\n",
              "      <td>1967.536794</td>\n",
              "      <td>-208537.227519</td>\n",
              "      <td>45-49</td>\n",
              "    </tr>\n",
              "    <tr>\n",
              "      <th>32335</th>\n",
              "      <td>32335</td>\n",
              "      <td>44</td>\n",
              "      <td>1173</td>\n",
              "      <td>1</td>\n",
              "      <td>1</td>\n",
              "      <td>1</td>\n",
              "      <td>-65133.191633</td>\n",
              "      <td>0.12</td>\n",
              "      <td>114698.29</td>\n",
              "      <td>130514.402407</td>\n",
              "      <td>5000.000000</td>\n",
              "      <td>-60133.191633</td>\n",
              "      <td>40-44</td>\n",
              "    </tr>\n",
              "    <tr>\n",
              "      <th>37151</th>\n",
              "      <td>37151</td>\n",
              "      <td>47</td>\n",
              "      <td>1690</td>\n",
              "      <td>2</td>\n",
              "      <td>1</td>\n",
              "      <td>5</td>\n",
              "      <td>121308.164962</td>\n",
              "      <td>0.31</td>\n",
              "      <td>82196.10</td>\n",
              "      <td>93530.381941</td>\n",
              "      <td>5000.000000</td>\n",
              "      <td>126308.164962</td>\n",
              "      <td>45-49</td>\n",
              "    </tr>\n",
              "    <tr>\n",
              "      <th>371</th>\n",
              "      <td>371</td>\n",
              "      <td>46</td>\n",
              "      <td>582</td>\n",
              "      <td>1</td>\n",
              "      <td>1</td>\n",
              "      <td>1</td>\n",
              "      <td>82270.077478</td>\n",
              "      <td>0.02</td>\n",
              "      <td>82921.53</td>\n",
              "      <td>94355.843794</td>\n",
              "      <td>5000.000000</td>\n",
              "      <td>87270.077478</td>\n",
              "      <td>45-49</td>\n",
              "    </tr>\n",
              "    <tr>\n",
              "      <th>45578</th>\n",
              "      <td>45578</td>\n",
              "      <td>35</td>\n",
              "      <td>1940</td>\n",
              "      <td>2</td>\n",
              "      <td>2</td>\n",
              "      <td>5</td>\n",
              "      <td>-234823.809143</td>\n",
              "      <td>0.00</td>\n",
              "      <td>89908.12</td>\n",
              "      <td>102305.836934</td>\n",
              "      <td>5000.000000</td>\n",
              "      <td>-229823.809143</td>\n",
              "      <td>35-39</td>\n",
              "    </tr>\n",
              "  </tbody>\n",
              "</table>\n",
              "</div>\n",
              "      <button class=\"colab-df-convert\" onclick=\"convertToInteractive('df-08324361-dbf9-40cb-a201-b9ff422fb61c')\"\n",
              "              title=\"Convert this dataframe to an interactive table.\"\n",
              "              style=\"display:none;\">\n",
              "        \n",
              "  <svg xmlns=\"http://www.w3.org/2000/svg\" height=\"24px\"viewBox=\"0 0 24 24\"\n",
              "       width=\"24px\">\n",
              "    <path d=\"M0 0h24v24H0V0z\" fill=\"none\"/>\n",
              "    <path d=\"M18.56 5.44l.94 2.06.94-2.06 2.06-.94-2.06-.94-.94-2.06-.94 2.06-2.06.94zm-11 1L8.5 8.5l.94-2.06 2.06-.94-2.06-.94L8.5 2.5l-.94 2.06-2.06.94zm10 10l.94 2.06.94-2.06 2.06-.94-2.06-.94-.94-2.06-.94 2.06-2.06.94z\"/><path d=\"M17.41 7.96l-1.37-1.37c-.4-.4-.92-.59-1.43-.59-.52 0-1.04.2-1.43.59L10.3 9.45l-7.72 7.72c-.78.78-.78 2.05 0 2.83L4 21.41c.39.39.9.59 1.41.59.51 0 1.02-.2 1.41-.59l7.78-7.78 2.81-2.81c.8-.78.8-2.07 0-2.86zM5.41 20L4 18.59l7.72-7.72 1.47 1.35L5.41 20z\"/>\n",
              "  </svg>\n",
              "      </button>\n",
              "      \n",
              "  <style>\n",
              "    .colab-df-container {\n",
              "      display:flex;\n",
              "      flex-wrap:wrap;\n",
              "      gap: 12px;\n",
              "    }\n",
              "\n",
              "    .colab-df-convert {\n",
              "      background-color: #E8F0FE;\n",
              "      border: none;\n",
              "      border-radius: 50%;\n",
              "      cursor: pointer;\n",
              "      display: none;\n",
              "      fill: #1967D2;\n",
              "      height: 32px;\n",
              "      padding: 0 0 0 0;\n",
              "      width: 32px;\n",
              "    }\n",
              "\n",
              "    .colab-df-convert:hover {\n",
              "      background-color: #E2EBFA;\n",
              "      box-shadow: 0px 1px 2px rgba(60, 64, 67, 0.3), 0px 1px 3px 1px rgba(60, 64, 67, 0.15);\n",
              "      fill: #174EA6;\n",
              "    }\n",
              "\n",
              "    [theme=dark] .colab-df-convert {\n",
              "      background-color: #3B4455;\n",
              "      fill: #D2E3FC;\n",
              "    }\n",
              "\n",
              "    [theme=dark] .colab-df-convert:hover {\n",
              "      background-color: #434B5C;\n",
              "      box-shadow: 0px 1px 3px 1px rgba(0, 0, 0, 0.15);\n",
              "      filter: drop-shadow(0px 1px 2px rgba(0, 0, 0, 0.3));\n",
              "      fill: #FFFFFF;\n",
              "    }\n",
              "  </style>\n",
              "\n",
              "      <script>\n",
              "        const buttonEl =\n",
              "          document.querySelector('#df-08324361-dbf9-40cb-a201-b9ff422fb61c button.colab-df-convert');\n",
              "        buttonEl.style.display =\n",
              "          google.colab.kernel.accessAllowed ? 'block' : 'none';\n",
              "\n",
              "        async function convertToInteractive(key) {\n",
              "          const element = document.querySelector('#df-08324361-dbf9-40cb-a201-b9ff422fb61c');\n",
              "          const dataTable =\n",
              "            await google.colab.kernel.invokeFunction('convertToInteractive',\n",
              "                                                     [key], {});\n",
              "          if (!dataTable) return;\n",
              "\n",
              "          const docLinkHtml = 'Like what you see? Visit the ' +\n",
              "            '<a target=\"_blank\" href=https://colab.research.google.com/notebooks/data_table.ipynb>data table notebook</a>'\n",
              "            + ' to learn more about interactive tables.';\n",
              "          element.innerHTML = '';\n",
              "          dataTable['output_type'] = 'display_data';\n",
              "          await google.colab.output.renderOutput(dataTable, element);\n",
              "          const docLink = document.createElement('div');\n",
              "          docLink.innerHTML = docLinkHtml;\n",
              "          element.appendChild(docLink);\n",
              "        }\n",
              "      </script>\n",
              "    </div>\n",
              "  </div>\n",
              "  "
            ]
          },
          "metadata": {},
          "execution_count": 113
        }
      ]
    },
    {
      "cell_type": "markdown",
      "source": [
        "# **Calcular o Weighted Average Retirement Savings Shortfall por raça (race) e faixa etária (age cohort):**\n",
        "\n"
      ],
      "metadata": {
        "id": "K_Qn1TPzUyxM"
      }
    },
    {
      "cell_type": "code",
      "source": [
        "# Calculate weighted average retirement savings shortfall by race and age cohort\n",
        "weighted_avg_shortfall = data.groupby(['race', 'age_cohort'])['new_accumulated_capital'].sum() / data.groupby(['race', 'age_cohort'])['weight'].sum()"
      ],
      "metadata": {
        "id": "c95jkdKaURfR"
      },
      "execution_count": 114,
      "outputs": []
    },
    {
      "cell_type": "markdown",
      "source": [
        "# **Calcular o impacto em pontos percentuais do novo cenário na Retirement Readiness Rating por faixa etária:**\n",
        "\n"
      ],
      "metadata": {
        "id": "sn2eXbhbU3GG"
      }
    },
    {
      "cell_type": "code",
      "source": [
        "# Calculate retirement readiness rating and impact percentage\n",
        "total_persons = data.groupby('age_cohort')['weight'].sum()\n",
        "persons_afforded_retirement = data[data['new_accumulated_capital'] >= 0].groupby('age_cohort')['weight'].sum()\n",
        "retirement_readiness_rating = persons_afforded_retirement / total_persons\n",
        "previous_readiness_rating = 0.7  # Previous retirement readiness rating\n",
        "impact_percentage = ((retirement_readiness_rating / previous_readiness_rating) - 1) * 100"
      ],
      "metadata": {
        "id": "j185VQJGURjg"
      },
      "execution_count": 115,
      "outputs": []
    },
    {
      "cell_type": "code",
      "source": [
        "# Generate the new_scenario.csv file with the new column new_accumulated_capital\n",
        "data.to_csv('new_scenario.csv', index=False)"
      ],
      "metadata": {
        "id": "upJyhT9LpqbG"
      },
      "execution_count": 116,
      "outputs": []
    },
    {
      "cell_type": "markdown",
      "source": [
        "# **Gerar o gráfico do Weighted Average Retirement Savings Shortfall por raça e faixa etária:**"
      ],
      "metadata": {
        "id": "unf3SeNLU554"
      }
    },
    {
      "cell_type": "code",
      "source": [
        "# Calcular a média ponderada das falhas de economia de aposentadoria por raça e faixa etária\n",
        "weighted_avg_shortfall = data.groupby(['race', 'age_cohort'])['new_accumulated_capital'].sum() / data.groupby(['race', 'age_cohort'])['weight'].sum()\n",
        "\n",
        "# Reorganizar os dados para ter as raças como colunas\n",
        "weighted_avg_shortfall = weighted_avg_shortfall.unstack(level='race')\n",
        "\n",
        "# Definir os nomes das raças correspondentes\n",
        "race_names = {1: 'White', 2: 'Black', 3: 'Hispanic', 4: 'Other'}\n",
        "\n",
        "# Definir a paleta de cores azul\n",
        "colors = sns.color_palette('Blues', n_colors=len(race_names))\n",
        "\n",
        "# Plotar o gráfico de barras agrupado por raça e faixa etária\n",
        "ax = weighted_avg_shortfall.plot(kind='bar', stacked=True, figsize=(10, 6), color=colors)\n",
        "\n",
        "# Ajustar a legenda com os nomes das raças\n",
        "handles, labels = ax.get_legend_handles_labels()\n",
        "labels = [race_names[int(label)] for label in labels]\n",
        "ax.legend(handles, labels, title='Race')\n",
        "\n",
        "# Configurar os rótulos e o título do gráfico\n",
        "plt.xlabel('Age Cohort')\n",
        "plt.ylabel('Weighted Average Retirement Savings Shortfall')\n",
        "plt.title('Weighted Average Retirement Savings Shortfall by Race and Age Cohort')\n",
        "\n",
        "# Girar os rótulos do eixo x em 90 graus\n",
        "plt.xticks(rotation=360)\n",
        "plt.grid(True)\n",
        "plt.show()"
      ],
      "metadata": {
        "colab": {
          "base_uri": "https://localhost:8080/",
          "height": 564
        },
        "id": "UqvhOIhHt3Lh",
        "outputId": "d704b270-d7ee-4185-81f8-2a2ea5f35b3d"
      },
      "execution_count": 119,
      "outputs": [
        {
          "output_type": "display_data",
          "data": {
            "text/plain": [
              "<Figure size 1000x600 with 1 Axes>"
            ],
            "image/png": "[encoded data removed]"
          },
          "metadata": {}
        }
      ]
    },
    {
      "cell_type": "markdown",
      "source": [
        "# **Gerar o gráfico do impacto em pontos percentuais do novo cenário na Retirement Readiness Rating por faixa etária:**"
      ],
      "metadata": {
        "id": "ptixcZlhU-M0"
      }
    },
    {
      "cell_type": "code",
      "source": [
        "impact_percentage.plot(kind='line', marker='o', figsize=(10, 6))\n",
        "plt.xlabel('Age Cohort')\n",
        "plt.ylabel('Impact in Percentage Points')\n",
        "plt.title('Impact of New Scenario on Retirement Readiness Rating per Age Cohort')\n",
        "plt.grid(True)\n",
        "plt.show()\n"
      ],
      "metadata": {
        "colab": {
          "base_uri": "https://localhost:8080/",
          "height": 564
        },
        "id": "U04JiOVMvdGI",
        "outputId": "28a3f68f-be79-482f-a4c9-39fd5ce5362a"
      },
      "execution_count": 118,
      "outputs": [
        {
          "output_type": "display_data",
          "data": {
            "text/plain": [
              "<Figure size 1000x600 with 1 Axes>"
            ],
            "image/png": "[encoded data removed]"
          },
          "metadata": {}
        }
      ]
    }
  ]
}